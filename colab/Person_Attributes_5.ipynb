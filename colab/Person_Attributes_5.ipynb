{
  "nbformat": 4,
  "nbformat_minor": 0,
  "metadata": {
    "colab": {
      "name": "Person_Attributes_2.ipynb",
      "provenance": [],
      "collapsed_sections": [],
      "include_colab_link": true
    },
    "kernelspec": {
      "name": "python3",
      "display_name": "Python 3"
    },
    "accelerator": "GPU"
  },
  "cells": [
    {
      "cell_type": "markdown",
      "metadata": {
        "id": "view-in-github",
        "colab_type": "text"
      },
      "source": [
        "<a href=\"https://colab.research.google.com/github/mashruravi/eip-hvc/blob/master/colab/Person_Attributes_5.ipynb\" target=\"_parent\"><img src=\"https://colab.research.google.com/assets/colab-badge.svg\" alt=\"Open In Colab\"/></a>"
      ]
    },
    {
      "cell_type": "code",
      "metadata": {
        "id": "39CDYn8davye",
        "colab_type": "code",
        "outputId": "83ee5f33-a311-4691-c577-e48c7b57e75c",
        "colab": {
          "base_uri": "https://localhost:8080/",
          "height": 139
        }
      },
      "source": [
        "from google.colab import drive\n",
        "drive.mount('/content/gdrive')\n",
        "!unzip -q \"/content/gdrive/My Drive/hvc_data.zip\"\n",
        "!cp /content/gdrive/My\\ Drive/hvc_encoded_3.csv /content/\n",
        "# `hvc_encoded.csv` and `resized` should be available\n",
        "%ls "
      ],
      "execution_count": 5,
      "outputs": [
        {
          "output_type": "stream",
          "text": [
            "Go to this URL in a browser: https://accounts.google.com/o/oauth2/auth?client_id=947318989803-6bn6qk8qdgf4n4g3pfee6491hc0brc4i.apps.googleusercontent.com&redirect_uri=urn%3aietf%3awg%3aoauth%3a2.0%3aoob&response_type=code&scope=email%20https%3a%2f%2fwww.googleapis.com%2fauth%2fdocs.test%20https%3a%2f%2fwww.googleapis.com%2fauth%2fdrive%20https%3a%2f%2fwww.googleapis.com%2fauth%2fdrive.photos.readonly%20https%3a%2f%2fwww.googleapis.com%2fauth%2fpeopleapi.readonly\n",
            "\n",
            "Enter your authorization code:\n",
            "··········\n",
            "Mounted at /content/gdrive\n",
            "\u001b[0m\u001b[01;34mgdrive\u001b[0m/  hvc_annotations.csv  hvc_encoded_3.csv  \u001b[01;34mresized\u001b[0m/  \u001b[01;34msample_data\u001b[0m/\n"
          ],
          "name": "stdout"
        }
      ]
    },
    {
      "cell_type": "code",
      "metadata": {
        "id": "V9gmFOPOf8x7",
        "colab_type": "code",
        "colab": {}
      },
      "source": [
        "import pandas as pd"
      ],
      "execution_count": 0,
      "outputs": []
    },
    {
      "cell_type": "code",
      "metadata": {
        "id": "GLgMA5QfgaMq",
        "colab_type": "code",
        "outputId": "39d60392-030d-4dad-92fa-b5fe8bea26ba",
        "colab": {
          "base_uri": "https://localhost:8080/",
          "height": 241
        }
      },
      "source": [
        "df = pd.read_csv('hvc_encoded_3.csv')\n",
        "df.head()"
      ],
      "execution_count": 7,
      "outputs": [
        {
          "output_type": "execute_result",
          "data": {
            "text/html": [
              "<div>\n",
              "<style scoped>\n",
              "    .dataframe tbody tr th:only-of-type {\n",
              "        vertical-align: middle;\n",
              "    }\n",
              "\n",
              "    .dataframe tbody tr th {\n",
              "        vertical-align: top;\n",
              "    }\n",
              "\n",
              "    .dataframe thead th {\n",
              "        text-align: right;\n",
              "    }\n",
              "</style>\n",
              "<table border=\"1\" class=\"dataframe\">\n",
              "  <thead>\n",
              "    <tr style=\"text-align: right;\">\n",
              "      <th></th>\n",
              "      <th>image_path</th>\n",
              "      <th>gender_female</th>\n",
              "      <th>gender_male</th>\n",
              "      <th>qual_Average</th>\n",
              "      <th>qual_Bad</th>\n",
              "      <th>qual_Good</th>\n",
              "      <th>age_15-25</th>\n",
              "      <th>age_25-35</th>\n",
              "      <th>age_35-45</th>\n",
              "      <th>age_45-55</th>\n",
              "      <th>age_55+</th>\n",
              "      <th>weight_normal-healthy</th>\n",
              "      <th>weight_over-weight</th>\n",
              "      <th>weight_slightly-overweight</th>\n",
              "      <th>weight_underweight</th>\n",
              "      <th>bag_Daily/Office/Work Bag</th>\n",
              "      <th>bag_Grocery/Home/Plastic Bag</th>\n",
              "      <th>bag_None</th>\n",
              "      <th>footwear_CantSee</th>\n",
              "      <th>footwear_Fancy</th>\n",
              "      <th>footwear_Normal</th>\n",
              "      <th>emotion_Angry/Serious</th>\n",
              "      <th>emotion_Happy</th>\n",
              "      <th>emotion_Neutral</th>\n",
              "      <th>emotion_Sad</th>\n",
              "      <th>bodypose_Back</th>\n",
              "      <th>bodypose_Front-Frontish</th>\n",
              "      <th>bodypose_Side</th>\n",
              "    </tr>\n",
              "  </thead>\n",
              "  <tbody>\n",
              "    <tr>\n",
              "      <th>0</th>\n",
              "      <td>resized/1.jpg</td>\n",
              "      <td>0</td>\n",
              "      <td>1</td>\n",
              "      <td>1</td>\n",
              "      <td>0</td>\n",
              "      <td>0</td>\n",
              "      <td>0</td>\n",
              "      <td>0</td>\n",
              "      <td>1</td>\n",
              "      <td>0</td>\n",
              "      <td>0</td>\n",
              "      <td>1</td>\n",
              "      <td>0</td>\n",
              "      <td>0</td>\n",
              "      <td>0</td>\n",
              "      <td>0</td>\n",
              "      <td>1</td>\n",
              "      <td>0</td>\n",
              "      <td>0</td>\n",
              "      <td>0</td>\n",
              "      <td>1</td>\n",
              "      <td>0</td>\n",
              "      <td>0</td>\n",
              "      <td>1</td>\n",
              "      <td>0</td>\n",
              "      <td>0</td>\n",
              "      <td>1</td>\n",
              "      <td>0</td>\n",
              "    </tr>\n",
              "    <tr>\n",
              "      <th>1</th>\n",
              "      <td>resized/2.jpg</td>\n",
              "      <td>1</td>\n",
              "      <td>0</td>\n",
              "      <td>1</td>\n",
              "      <td>0</td>\n",
              "      <td>0</td>\n",
              "      <td>0</td>\n",
              "      <td>0</td>\n",
              "      <td>1</td>\n",
              "      <td>0</td>\n",
              "      <td>0</td>\n",
              "      <td>0</td>\n",
              "      <td>1</td>\n",
              "      <td>0</td>\n",
              "      <td>0</td>\n",
              "      <td>0</td>\n",
              "      <td>0</td>\n",
              "      <td>1</td>\n",
              "      <td>0</td>\n",
              "      <td>0</td>\n",
              "      <td>1</td>\n",
              "      <td>1</td>\n",
              "      <td>0</td>\n",
              "      <td>0</td>\n",
              "      <td>0</td>\n",
              "      <td>0</td>\n",
              "      <td>1</td>\n",
              "      <td>0</td>\n",
              "    </tr>\n",
              "    <tr>\n",
              "      <th>2</th>\n",
              "      <td>resized/3.jpg</td>\n",
              "      <td>0</td>\n",
              "      <td>1</td>\n",
              "      <td>0</td>\n",
              "      <td>0</td>\n",
              "      <td>1</td>\n",
              "      <td>0</td>\n",
              "      <td>0</td>\n",
              "      <td>0</td>\n",
              "      <td>1</td>\n",
              "      <td>0</td>\n",
              "      <td>1</td>\n",
              "      <td>0</td>\n",
              "      <td>0</td>\n",
              "      <td>0</td>\n",
              "      <td>0</td>\n",
              "      <td>1</td>\n",
              "      <td>0</td>\n",
              "      <td>1</td>\n",
              "      <td>0</td>\n",
              "      <td>0</td>\n",
              "      <td>0</td>\n",
              "      <td>0</td>\n",
              "      <td>1</td>\n",
              "      <td>0</td>\n",
              "      <td>0</td>\n",
              "      <td>1</td>\n",
              "      <td>0</td>\n",
              "    </tr>\n",
              "    <tr>\n",
              "      <th>3</th>\n",
              "      <td>resized/4.jpg</td>\n",
              "      <td>0</td>\n",
              "      <td>1</td>\n",
              "      <td>0</td>\n",
              "      <td>0</td>\n",
              "      <td>1</td>\n",
              "      <td>0</td>\n",
              "      <td>0</td>\n",
              "      <td>0</td>\n",
              "      <td>1</td>\n",
              "      <td>0</td>\n",
              "      <td>1</td>\n",
              "      <td>0</td>\n",
              "      <td>0</td>\n",
              "      <td>0</td>\n",
              "      <td>1</td>\n",
              "      <td>0</td>\n",
              "      <td>0</td>\n",
              "      <td>0</td>\n",
              "      <td>0</td>\n",
              "      <td>1</td>\n",
              "      <td>0</td>\n",
              "      <td>0</td>\n",
              "      <td>1</td>\n",
              "      <td>0</td>\n",
              "      <td>0</td>\n",
              "      <td>1</td>\n",
              "      <td>0</td>\n",
              "    </tr>\n",
              "    <tr>\n",
              "      <th>4</th>\n",
              "      <td>resized/5.jpg</td>\n",
              "      <td>1</td>\n",
              "      <td>0</td>\n",
              "      <td>0</td>\n",
              "      <td>0</td>\n",
              "      <td>1</td>\n",
              "      <td>0</td>\n",
              "      <td>0</td>\n",
              "      <td>1</td>\n",
              "      <td>0</td>\n",
              "      <td>0</td>\n",
              "      <td>0</td>\n",
              "      <td>0</td>\n",
              "      <td>1</td>\n",
              "      <td>0</td>\n",
              "      <td>0</td>\n",
              "      <td>0</td>\n",
              "      <td>1</td>\n",
              "      <td>1</td>\n",
              "      <td>0</td>\n",
              "      <td>0</td>\n",
              "      <td>0</td>\n",
              "      <td>0</td>\n",
              "      <td>1</td>\n",
              "      <td>0</td>\n",
              "      <td>0</td>\n",
              "      <td>1</td>\n",
              "      <td>0</td>\n",
              "    </tr>\n",
              "  </tbody>\n",
              "</table>\n",
              "</div>"
            ],
            "text/plain": [
              "      image_path  gender_female  ...  bodypose_Front-Frontish  bodypose_Side\n",
              "0  resized/1.jpg              0  ...                        1              0\n",
              "1  resized/2.jpg              1  ...                        1              0\n",
              "2  resized/3.jpg              0  ...                        1              0\n",
              "3  resized/4.jpg              0  ...                        1              0\n",
              "4  resized/5.jpg              1  ...                        1              0\n",
              "\n",
              "[5 rows x 28 columns]"
            ]
          },
          "metadata": {
            "tags": []
          },
          "execution_count": 7
        }
      ]
    },
    {
      "cell_type": "code",
      "metadata": {
        "id": "GqpBIrV_hiOH",
        "colab_type": "code",
        "colab": {}
      },
      "source": [
        "from sklearn.model_selection import train_test_split\n",
        "train_df, val_df = train_test_split(df, test_size=0.15)"
      ],
      "execution_count": 0,
      "outputs": []
    },
    {
      "cell_type": "code",
      "metadata": {
        "id": "mWxisPJ-mZ9i",
        "colab_type": "code",
        "outputId": "9c0fc542-72be-4a59-f2e1-5e7c2b1c6afd",
        "colab": {
          "base_uri": "https://localhost:8080/",
          "height": 34
        }
      },
      "source": [
        "train_df.shape, val_df.shape"
      ],
      "execution_count": 9,
      "outputs": [
        {
          "output_type": "execute_result",
          "data": {
            "text/plain": [
              "((11537, 28), (2036, 28))"
            ]
          },
          "metadata": {
            "tags": []
          },
          "execution_count": 9
        }
      ]
    },
    {
      "cell_type": "code",
      "metadata": {
        "id": "nhA6Co__X9xF",
        "colab_type": "code",
        "colab": {}
      },
      "source": [
        "# Columns for one-hot encoded labels\n",
        "def get_columns_by_prefix(prefix):\n",
        "  return [col for col in df if col.startswith(prefix)]\n",
        "\n",
        "_gender_columns = get_columns_by_prefix('gender')\n",
        "_qual_columns_ = get_columns_by_prefix('qual')\n",
        "_age_columns_ = get_columns_by_prefix('age')\n",
        "_weight_columns_ = get_columns_by_prefix('weight')\n",
        "_bag_columns_ = get_columns_by_prefix('bag')\n",
        "_footwear_columns_ = get_columns_by_prefix('footwear')\n",
        "_emotion_columns_ = get_columns_by_prefix('emotion')\n",
        "_bodypose_columns_ = get_columns_by_prefix('bodypose')"
      ],
      "execution_count": 0,
      "outputs": []
    },
    {
      "cell_type": "code",
      "metadata": {
        "id": "ou65r4l1gGmK",
        "colab_type": "code",
        "outputId": "ba60d4f5-5087-45f3-f797-4229dd92e1af",
        "colab": {
          "base_uri": "https://localhost:8080/",
          "height": 80
        }
      },
      "source": [
        "import tensorflow\n",
        "print(tensorflow.__version__)"
      ],
      "execution_count": 11,
      "outputs": [
        {
          "output_type": "display_data",
          "data": {
            "text/html": [
              "<p style=\"color: red;\">\n",
              "The default version of TensorFlow in Colab will soon switch to TensorFlow 2.x.<br>\n",
              "We recommend you <a href=\"https://www.tensorflow.org/guide/migrate\" target=\"_blank\">upgrade</a> now \n",
              "or ensure your notebook will continue to use TensorFlow 1.x via the <code>%tensorflow_version 1.x</code> magic:\n",
              "<a href=\"https://colab.research.google.com/notebooks/tensorflow_version.ipynb\" target=\"_blank\">more info</a>.</p>\n"
            ],
            "text/plain": [
              "<IPython.core.display.HTML object>"
            ]
          },
          "metadata": {
            "tags": []
          }
        },
        {
          "output_type": "stream",
          "text": [
            "1.15.0\n"
          ],
          "name": "stdout"
        }
      ]
    },
    {
      "cell_type": "code",
      "metadata": {
        "id": "H9WupFC_pIjK",
        "colab_type": "code",
        "outputId": "84367859-9082-481a-81fc-87bcd6f3083f",
        "colab": {
          "base_uri": "https://localhost:8080/",
          "height": 34
        }
      },
      "source": [
        "import keras\n",
        "import numpy as np\n",
        "import cv2\n",
        "from __future__ import division\n",
        "\n",
        "class DataGenerator(tensorflow.keras.utils.Sequence):\n",
        "  \n",
        "  def __init__(self, df, batch_size=32, shuffle=True):\n",
        "    self.df = df\n",
        "    self.batch_size = batch_size\n",
        "    self.shuffle = shuffle\n",
        "\n",
        "  def __len__(self):\n",
        "    return int(np.ceil(self.df.shape[0] / self.batch_size))\n",
        "\n",
        "  def __getitem__(self, index):\n",
        "    \"\"\" return X=224,224,3,batch_size and y=num_classes,batch_size\"\"\"\n",
        "    batch_slice = slice(index * self.batch_size, (index + 1) * self.batch_size)\n",
        "    items = self.df.iloc[batch_slice]\n",
        "    images = np.stack([cv2.imread(item['image_path']) for _, item in items.iterrows()])\n",
        "    images = images/255\n",
        "    target = {\n",
        "        'gender_output': items[_gender_columns].values,\n",
        "        'imagequality_output': items[_qual_columns_].values,\n",
        "        'age_output': items[_age_columns_].values,\n",
        "        'weight_output': items[_weight_columns_].values,\n",
        "        'bag_output': items[_bag_columns_].values,\n",
        "        'footwear_output': items[_footwear_columns_].values,\n",
        "        'emotion_output': items[_emotion_columns_].values,\n",
        "        'bodypose_output': items[_bodypose_columns_].values\n",
        "    }\n",
        "    return images, target\n",
        "\n",
        "  def on_epoch_end(self):\n",
        "    \"\"\"Shuffle data after each epoch\"\"\"\n",
        "    if self.shuffle == True:\n",
        "      self.df = self.df.sample(frac=1).reset_index(drop=True)"
      ],
      "execution_count": 12,
      "outputs": [
        {
          "output_type": "stream",
          "text": [
            "Using TensorFlow backend.\n"
          ],
          "name": "stderr"
        }
      ]
    },
    {
      "cell_type": "code",
      "metadata": {
        "id": "XNzE64-8ZZue",
        "colab_type": "code",
        "colab": {}
      },
      "source": [
        "BATCH_SIZE=16\n",
        "train_gen = DataGenerator(train_df, batch_size=BATCH_SIZE, shuffle=True)\n",
        "valid_gen = DataGenerator(val_df, batch_size=BATCH_SIZE, shuffle=False)"
      ],
      "execution_count": 0,
      "outputs": []
    },
    {
      "cell_type": "code",
      "metadata": {
        "id": "vASj_zzMZsIw",
        "colab_type": "code",
        "colab": {}
      },
      "source": [
        "images, targets = next(iter(train_gen))"
      ],
      "execution_count": 0,
      "outputs": []
    },
    {
      "cell_type": "code",
      "metadata": {
        "id": "LiFbKBHaavlk",
        "colab_type": "code",
        "outputId": "3d75a1b0-24a4-4368-faad-356b8d544693",
        "colab": {
          "base_uri": "https://localhost:8080/",
          "height": 153
        }
      },
      "source": [
        "def get_unit_count(value_output):\n",
        "  if (len(value_output.shape) > 1):\n",
        "    return value_output.shape[1]\n",
        "  else:\n",
        "    return 1\n",
        "num_units = { k.split(\"_output\")[0]: get_unit_count(v) for k, v in targets.items() }\n",
        "num_units"
      ],
      "execution_count": 15,
      "outputs": [
        {
          "output_type": "execute_result",
          "data": {
            "text/plain": [
              "{'age': 5,\n",
              " 'bag': 3,\n",
              " 'bodypose': 3,\n",
              " 'emotion': 4,\n",
              " 'footwear': 3,\n",
              " 'gender': 2,\n",
              " 'imagequality': 3,\n",
              " 'weight': 4}"
            ]
          },
          "metadata": {
            "tags": []
          },
          "execution_count": 15
        }
      ]
    },
    {
      "cell_type": "code",
      "metadata": {
        "id": "TxNe-tVTGXzd",
        "colab_type": "code",
        "colab": {}
      },
      "source": [
        "from __future__ import division\n",
        "\n",
        "import six\n",
        "from tensorflow.keras.models import Model\n",
        "from tensorflow.keras.layers import (\n",
        "    Input,\n",
        "    Activation,\n",
        "    Dense,\n",
        "    Flatten,\n",
        "    Dropout\n",
        ")\n",
        "from tensorflow.keras.layers import (\n",
        "    Conv2D,\n",
        "    MaxPooling2D,\n",
        "    AveragePooling2D,\n",
        "    GlobalAveragePooling2D\n",
        ")\n",
        "from tensorflow.keras.layers import add\n",
        "from tensorflow.keras.layers import BatchNormalization\n",
        "from tensorflow.keras.regularizers import l2\n",
        "from tensorflow.keras import backend as K\n",
        "\n",
        "\n",
        "weight_decay = 0.005\n",
        "\n",
        "def initial_conv(input, i):\n",
        "    x = Conv2D(100, (3, 3), padding='same', kernel_initializer='he_normal',\n",
        "                      kernel_regularizer=l2(weight_decay),\n",
        "                      use_bias=False, name=f\"conv_init_{i}\")(input)\n",
        "\n",
        "    channel_axis = -1\n",
        "\n",
        "    x = BatchNormalization(axis=channel_axis, momentum=0.1, epsilon=1e-5, gamma_initializer='uniform', name=f\"BN_init_{i}\")(x)\n",
        "    x = Activation('relu')(x)\n",
        "    return x\n",
        "\n",
        "\n",
        "def expand_conv(idx, init, base, k, strides=(1, 1)):\n",
        "    x = Conv2D(base * k, (3, 3), padding='same', strides=strides, kernel_initializer='he_normal',\n",
        "                      kernel_regularizer=l2(weight_decay),\n",
        "                      use_bias=False, name=\"conv_expand_\"+str(idx)+\"_1\")(init)\n",
        "\n",
        "    channel_axis = 1 if K.image_data_format() == \"channels_first\" else -1\n",
        "\n",
        "    x = BatchNormalization(axis=channel_axis, momentum=0.1, epsilon=1e-5, gamma_initializer='uniform', name=\"BN_expand\"+str(idx))(x)\n",
        "    x = Activation('relu')(x)\n",
        "\n",
        "    x = Conv2D(base * k, (3, 3), padding='same', kernel_initializer='he_normal',\n",
        "                      kernel_regularizer=l2(weight_decay),\n",
        "                      use_bias=False, name=\"conv_expand_\"+str(idx)+\"_2\")(x)\n",
        "\n",
        "    skip = Conv2D(base * k, (1, 1), padding='same', strides=strides, kernel_initializer='he_normal',\n",
        "                      kernel_regularizer=l2(weight_decay),\n",
        "                      use_bias=False, name=\"conv_expand_\"+str(idx)+\"_3\")(init)\n",
        "\n",
        "    m = add([x, skip])\n",
        "\n",
        "    return m\n",
        "\n",
        "\n",
        "def conv1_block(idx, input, k=1, dropout=0.0):\n",
        "    init = input\n",
        "\n",
        "    channel_axis = -1\n",
        "\n",
        "    x = BatchNormalization(axis=channel_axis, momentum=0.1, epsilon=1e-5, gamma_initializer='uniform', name=\"BN1_\"+str(idx)+\"_1\")(input)\n",
        "    x = Activation('relu')(x)\n",
        "    x = Conv2D(16 * k, (3, 3), padding='same', kernel_initializer='he_normal',\n",
        "                      kernel_regularizer=l2(weight_decay),\n",
        "                      use_bias=False, name=\"conv1_\"+str(idx)+\"_1\")(x)\n",
        "\n",
        "    if dropout > 0.0: x = Dropout(rate=dropout)(x)\n",
        "\n",
        "    x = BatchNormalization(axis=channel_axis, momentum=0.1, epsilon=1e-5, gamma_initializer='uniform', name=\"BN1_\"+str(idx)+\"_2\")(x)\n",
        "    x = Activation('relu')(x)\n",
        "    x = Conv2D(16 * k, (3, 3), padding='same', kernel_initializer='he_normal',\n",
        "                      kernel_regularizer=l2(weight_decay),\n",
        "                      use_bias=False, name=\"conv1_\"+str(idx)+\"_2\")(x)\n",
        "\n",
        "    m = add([init, x])\n",
        "    return m\n",
        "\n",
        "def conv2_block(idx, input, k=1, dropout=0.0):\n",
        "    init = input\n",
        "\n",
        "    channel_axis = -1\n",
        "\n",
        "    x = BatchNormalization(axis=channel_axis, momentum=0.1, epsilon=1e-5, gamma_initializer='uniform', name=\"BN2_\"+str(idx)+\"_1\")(input)\n",
        "    x = Activation('relu')(x)\n",
        "    x = Conv2D(32 * k, (3, 3), padding='same', kernel_initializer='he_normal',\n",
        "                      kernel_regularizer=l2(weight_decay),\n",
        "                      use_bias=False, name=\"conv2_\"+str(idx)+\"_1\")(x)\n",
        "\n",
        "    if dropout > 0.0: x = Dropout(rate=dropout)(x)\n",
        "\n",
        "    x = BatchNormalization(axis=channel_axis, momentum=0.1, epsilon=1e-5, gamma_initializer='uniform', name=\"BN2_\"+str(idx)+\"_2\")(x)\n",
        "    x = Activation('relu')(x)\n",
        "    x = Conv2D(32 * k, (3, 3), padding='same', kernel_initializer='he_normal',\n",
        "                      kernel_regularizer=l2(weight_decay),\n",
        "                      use_bias=False,name=\"conv2_\"+str(idx)+\"_2\")(x)\n",
        "\n",
        "    m = add([init, x])\n",
        "    return m\n",
        "\n",
        "def conv3_block(idx, input, k=1, dropout=0.0):\n",
        "    init = input\n",
        "\n",
        "    channel_axis = -1\n",
        "\n",
        "    x = BatchNormalization(axis=channel_axis, momentum=0.1, epsilon=1e-5, gamma_initializer='uniform', name=\"BN3_\"+str(idx)+\"_1\")(input)\n",
        "    x = Activation('relu')(x)\n",
        "    x = Conv2D(64 * k, (3, 3), padding='same', kernel_initializer='he_normal',\n",
        "                      kernel_regularizer=l2(weight_decay),\n",
        "                      use_bias=False, name=\"conv3_\"+str(idx)+\"_1\")(x)\n",
        "\n",
        "    if dropout > 0.0: x = Dropout(rate=dropout)(x)\n",
        "\n",
        "    x = BatchNormalization(axis=channel_axis, momentum=0.1, epsilon=1e-5, gamma_initializer='uniform', name=\"BN3_\"+str(idx)+\"_2\")(x)\n",
        "    x = Activation('relu')(x)\n",
        "    x = Conv2D(64 * k, (3, 3), padding='same', kernel_initializer='he_normal',\n",
        "                      kernel_regularizer=l2(weight_decay),\n",
        "                      use_bias=False, name=\"conv3_\"+str(idx)+\"_2\")(x)\n",
        "\n",
        "    m = add([init, x])\n",
        "    return m\n",
        "\n",
        "def create_wide_residual_network(input_layer, N=2, k=1, dropout=0.0, verbose=1, index=0):\n",
        "    \"\"\"\n",
        "    Creates a Wide Residual Network with specified parameters\n",
        "\n",
        "    :param input: Input Keras object\n",
        "    :param nb_classes: Number of output classes\n",
        "    :param N: Depth of the network. Compute N = (n - 4) / 6.\n",
        "              Example : For a depth of 16, n = 16, N = (16 - 4) / 6 = 2\n",
        "              Example2: For a depth of 28, n = 28, N = (28 - 4) / 6 = 4\n",
        "              Example3: For a depth of 40, n = 40, N = (40 - 4) / 6 = 6\n",
        "    :param k: Width of the network.\n",
        "    :param dropout: Adds dropout if value is greater than 0.0\n",
        "    :param verbose: Debug info to describe created WRN\n",
        "    :return:\n",
        "    \"\"\"\n",
        "    channel_axis = 1 if K.image_data_format() == \"channels_first\" else -1\n",
        "\n",
        "    ip = input_layer\n",
        "\n",
        "    x = initial_conv(ip, index)\n",
        "    nb_conv = 4\n",
        "\n",
        "    x = expand_conv(f\"{index}_1\", x, 16, k)\n",
        "    nb_conv += 2\n",
        "\n",
        "    for i in range(N - 1):\n",
        "        x = conv1_block(f\"{index}_i\", x, k, dropout)\n",
        "        nb_conv += 2\n",
        "\n",
        "    x = BatchNormalization(axis=channel_axis, momentum=0.1, epsilon=1e-5, gamma_initializer='uniform', name=f\"BN_{index}_1\")(x)\n",
        "    x = Activation('relu')(x)\n",
        "\n",
        "    x = expand_conv(f\"{index}_2\", x, 32, k, strides=(2, 2))\n",
        "    nb_conv += 2\n",
        "\n",
        "    for i in range(N - 1):\n",
        "        x = conv2_block(f\"{index}_i\", x, k, dropout)\n",
        "        nb_conv += 2\n",
        "\n",
        "    x = BatchNormalization(axis=channel_axis, momentum=0.1, epsilon=1e-5, gamma_initializer='uniform', name=f\"BN_{index}_2\")(x)\n",
        "    x = Activation('relu')(x)\n",
        "\n",
        "    x = expand_conv(f\"{index}_3\", x, 64, k, strides=(2, 2))\n",
        "    nb_conv += 2\n",
        "\n",
        "    for i in range(N - 1):\n",
        "        x = conv3_block(f\"{index}_i\", x, k, dropout)\n",
        "        nb_conv += 2\n",
        "\n",
        "    x = BatchNormalization(axis=channel_axis, momentum=0.1, epsilon=1e-5, gamma_initializer='uniform', name=f\"BN_{index}_3\")(x)\n",
        "    x = Activation('relu')(x)\n",
        "\n",
        "    return x\n",
        "\n",
        "    # x = Conv2D(nb_classes, (1,1), padding=\"same\", name=\"conv_final\")(x)\n",
        "    # x = GlobalAveragePooling2D(name=\"GAP\")(x)\n",
        "    # x = Activation(\"softmax\")(x)\n",
        "\n",
        "    # model = Model(ip, x)\n",
        "\n",
        "    # if verbose: print(\"Wide Residual Network-%d-%d created.\" % (nb_conv, k))\n",
        "    # return model"
      ],
      "execution_count": 0,
      "outputs": []
    },
    {
      "cell_type": "code",
      "metadata": {
        "id": "eQ-vVn9NbNue",
        "colab_type": "code",
        "colab": {}
      },
      "source": [
        "def get_backbone(input_layer):\n",
        "  # return create_wide_residual_network(input_layer, N=1, k=1, dropout=0.0, verbose=1, index=0)\n",
        "  x = Conv2D(16, (3, 3), use_bias=False)(input_layer)\n",
        "  x = Conv2D(16, (3, 3), use_bias=False)(x)\n",
        "  x = MaxPooling2D(strides=2)(x)\n",
        "\n",
        "  x = Conv2D(32, (3, 3), use_bias=False)(x)\n",
        "  x = Conv2D(32, (3, 3), use_bias=False)(x)\n",
        "  x = MaxPooling2D(strides=2)(x)\n",
        "\n",
        "  x = Conv2D(64, (3, 3), use_bias=False)(x)\n",
        "  x = Conv2D(64, (3, 3), use_bias=False)(x)\n",
        "  x = Conv2D(64, (3, 3), use_bias=False)(x)\n",
        "  x = MaxPooling2D(strides=2)(x)\n",
        "\n",
        "  # x = Conv2D(128, (3, 3), use_bias=False)(x)\n",
        "  # x = Conv2D(128, (3, 3), use_bias=False)(x)\n",
        "  # x = Conv2D(128, (3, 3), use_bias=False)(x)\n",
        "  # x = MaxPooling2D(strides=2)(x)\n",
        "  return x\n",
        "\n",
        "def get_neck(input_layer, index):\n",
        "  # x = create_wide_residual_network(input_layer, N=1, k=1, dropout=0.0, verbose=1, index=index)\n",
        "\n",
        "  x = Conv2D(64, (1, 1))(input_layer)\n",
        "  # x = Conv2D(64, (3, 3))(x)\n",
        "  # x = Conv2D(64, (3, 3))(x)\n",
        "  x = MaxPooling2D()(x)\n",
        "\n",
        "  x = Flatten()(x)\n",
        "  x = Dropout(rate=0.2)(x)\n",
        "  x = Dense(32, activation='sigmoid')(x)\n",
        "  x = Dropout(rate=0.2)(x)\n",
        "  x = Dense(64, activation='sigmoid')(x)\n",
        "  return x\n",
        "\n",
        "def get_head(name, input_layer):\n",
        "  return Dense(num_units[name], activation='softmax', name=f'{name}_output')(input_layer)\n",
        "\n",
        "def make_model():\n",
        "\n",
        "  input = Input(shape=(224, 224, 3))\n",
        "\n",
        "  backbone = get_backbone(input)\n",
        "\n",
        "\n",
        "  # heads\n",
        "  age = get_head('age', get_neck(backbone, 1))\n",
        "  bag = get_head('bag', get_neck(backbone, 2))\n",
        "  bodypose = get_head('bodypose', get_neck(backbone, 3))\n",
        "  emotion = get_head('emotion', get_neck(backbone, 4))\n",
        "  footwear = get_head('footwear', get_neck(backbone, 5))\n",
        "  gender = get_head('gender', get_neck(backbone, 6))\n",
        "  imagequality = get_head('imagequality', get_neck(backbone, 7))\n",
        "  weight = get_head('weight', get_neck(backbone, 8))\n",
        "\n",
        "  model = Model(\n",
        "      inputs = input,\n",
        "      outputs = age\n",
        "      # outputs = [age, bag, bodypose, emotion, footwear, gender, imagequality, weight]\n",
        "  )\n",
        "\n",
        "  return model"
      ],
      "execution_count": 0,
      "outputs": []
    },
    {
      "cell_type": "code",
      "metadata": {
        "id": "277UKn9zfKDA",
        "colab_type": "code",
        "colab": {}
      },
      "source": [
        "def get_compiled_model():\n",
        "\n",
        "  model = make_model()\n",
        "\n",
        "  model.compile(\n",
        "      optimizer='sgd',\n",
        "      loss={\n",
        "          # 'gender_output': 'categorical_crossentropy',\n",
        "          # 'imagequality_output': 'categorical_crossentropy',\n",
        "          'age_output': 'categorical_crossentropy',\n",
        "          # 'weight_output': 'categorical_crossentropy',\n",
        "          # 'bag_output': 'categorical_crossentropy',\n",
        "          # 'footwear_output': 'categorical_crossentropy',\n",
        "          # 'emotion_output': 'categorical_crossentropy',\n",
        "          # 'bodypose_output': 'categorical_crossentropy'\n",
        "      },\n",
        "      metrics=[\"accuracy\"]\n",
        "  )\n",
        "  return model\n"
      ],
      "execution_count": 0,
      "outputs": []
    },
    {
      "cell_type": "code",
      "metadata": {
        "id": "v5Cs_3zwHYyy",
        "colab_type": "code",
        "outputId": "fa932ce8-234d-40e0-91b9-f41c97b05b6e",
        "colab": {
          "base_uri": "https://localhost:8080/",
          "height": 799
        }
      },
      "source": [
        "model = get_compiled_model()\n",
        "model.summary()"
      ],
      "execution_count": 48,
      "outputs": [
        {
          "output_type": "stream",
          "text": [
            "Model: \"model_8\"\n",
            "_________________________________________________________________\n",
            "Layer (type)                 Output Shape              Param #   \n",
            "=================================================================\n",
            "input_11 (InputLayer)        [(None, 224, 224, 3)]     0         \n",
            "_________________________________________________________________\n",
            "conv2d_107 (Conv2D)          (None, 222, 222, 16)      432       \n",
            "_________________________________________________________________\n",
            "conv2d_108 (Conv2D)          (None, 220, 220, 16)      2304      \n",
            "_________________________________________________________________\n",
            "max_pooling2d_85 (MaxPooling (None, 110, 110, 16)      0         \n",
            "_________________________________________________________________\n",
            "conv2d_109 (Conv2D)          (None, 108, 108, 32)      4608      \n",
            "_________________________________________________________________\n",
            "conv2d_110 (Conv2D)          (None, 106, 106, 32)      9216      \n",
            "_________________________________________________________________\n",
            "max_pooling2d_86 (MaxPooling (None, 53, 53, 32)        0         \n",
            "_________________________________________________________________\n",
            "conv2d_111 (Conv2D)          (None, 51, 51, 64)        18432     \n",
            "_________________________________________________________________\n",
            "conv2d_112 (Conv2D)          (None, 49, 49, 64)        36864     \n",
            "_________________________________________________________________\n",
            "conv2d_113 (Conv2D)          (None, 47, 47, 64)        36864     \n",
            "_________________________________________________________________\n",
            "max_pooling2d_87 (MaxPooling (None, 23, 23, 64)        0         \n",
            "_________________________________________________________________\n",
            "conv2d_114 (Conv2D)          (None, 23, 23, 64)        4160      \n",
            "_________________________________________________________________\n",
            "max_pooling2d_88 (MaxPooling (None, 11, 11, 64)        0         \n",
            "_________________________________________________________________\n",
            "flatten_64 (Flatten)         (None, 7744)              0         \n",
            "_________________________________________________________________\n",
            "dropout_128 (Dropout)        (None, 7744)              0         \n",
            "_________________________________________________________________\n",
            "dense_128 (Dense)            (None, 32)                247840    \n",
            "_________________________________________________________________\n",
            "dropout_129 (Dropout)        (None, 32)                0         \n",
            "_________________________________________________________________\n",
            "dense_129 (Dense)            (None, 64)                2112      \n",
            "_________________________________________________________________\n",
            "age_output (Dense)           (None, 5)                 325       \n",
            "=================================================================\n",
            "Total params: 363,157\n",
            "Trainable params: 363,157\n",
            "Non-trainable params: 0\n",
            "_________________________________________________________________\n"
          ],
          "name": "stdout"
        }
      ]
    },
    {
      "cell_type": "code",
      "metadata": {
        "id": "r6zJovVFaA0B",
        "colab_type": "code",
        "colab": {}
      },
      "source": [
        "from tensorflow.keras.callbacks import *\n",
        "\n",
        "class CyclicLR(Callback):\n",
        "    \"\"\"This callback implements a cyclical learning rate policy (CLR).\n",
        "    The method cycles the learning rate between two boundaries with\n",
        "    some constant frequency, as detailed in this paper (https://arxiv.org/abs/1506.01186).\n",
        "    The amplitude of the cycle can be scaled on a per-iteration or \n",
        "    per-cycle basis.\n",
        "    This class has three built-in policies, as put forth in the paper.\n",
        "    \"triangular\":\n",
        "        A basic triangular cycle w/ no amplitude scaling.\n",
        "    \"triangular2\":\n",
        "        A basic triangular cycle that scales initial amplitude by half each cycle.\n",
        "    \"exp_range\":\n",
        "        A cycle that scales initial amplitude by gamma**(cycle iterations) at each \n",
        "        cycle iteration.\n",
        "    For more detail, please see paper.\n",
        "    \n",
        "    # Example\n",
        "        ```python\n",
        "            clr = CyclicLR(base_lr=0.001, max_lr=0.006,\n",
        "                                step_size=2000., mode='triangular')\n",
        "            model.fit(X_train, Y_train, callbacks=[clr])\n",
        "        ```\n",
        "    \n",
        "    Class also supports custom scaling functions:\n",
        "        ```python\n",
        "            clr_fn = lambda x: 0.5*(1+np.sin(x*np.pi/2.))\n",
        "            clr = CyclicLR(base_lr=0.001, max_lr=0.006,\n",
        "                                step_size=2000., scale_fn=clr_fn,\n",
        "                                scale_mode='cycle')\n",
        "            model.fit(X_train, Y_train, callbacks=[clr])\n",
        "        ```    \n",
        "    # Arguments\n",
        "        base_lr: initial learning rate which is the\n",
        "            lower boundary in the cycle.\n",
        "        max_lr: upper boundary in the cycle. Functionally,\n",
        "            it defines the cycle amplitude (max_lr - base_lr).\n",
        "            The lr at any cycle is the sum of base_lr\n",
        "            and some scaling of the amplitude; therefore \n",
        "            max_lr may not actually be reached depending on\n",
        "            scaling function.\n",
        "        step_size: number of training iterations per\n",
        "            half cycle. Authors suggest setting step_size\n",
        "            2-8 x training iterations in epoch.\n",
        "        mode: one of {triangular, triangular2, exp_range}.\n",
        "            Default 'triangular'.\n",
        "            Values correspond to policies detailed above.\n",
        "            If scale_fn is not None, this argument is ignored.\n",
        "        gamma: constant in 'exp_range' scaling function:\n",
        "            gamma**(cycle iterations)\n",
        "        scale_fn: Custom scaling policy defined by a single\n",
        "            argument lambda function, where \n",
        "            0 <= scale_fn(x) <= 1 for all x >= 0.\n",
        "            mode paramater is ignored \n",
        "        scale_mode: {'cycle', 'iterations'}.\n",
        "            Defines whether scale_fn is evaluated on \n",
        "            cycle number or cycle iterations (training\n",
        "            iterations since start of cycle). Default is 'cycle'.\n",
        "    \"\"\"\n",
        "\n",
        "    def __init__(self, base_lr=0.001, max_lr=0.006, step_size=2000., mode='triangular',\n",
        "                 gamma=1., scale_fn=None, scale_mode='cycle'):\n",
        "        super(CyclicLR, self).__init__()\n",
        "\n",
        "        self.base_lr = base_lr\n",
        "        self.max_lr = max_lr\n",
        "        self.step_size = step_size\n",
        "        self.mode = mode\n",
        "        self.gamma = gamma\n",
        "        if scale_fn == None:\n",
        "            if self.mode == 'triangular':\n",
        "                self.scale_fn = lambda x: 1.\n",
        "                self.scale_mode = 'cycle'\n",
        "            elif self.mode == 'triangular2':\n",
        "                self.scale_fn = lambda x: 1/(2.**(x-1))\n",
        "                self.scale_mode = 'cycle'\n",
        "            elif self.mode == 'exp_range':\n",
        "                self.scale_fn = lambda x: gamma**(x)\n",
        "                self.scale_mode = 'iterations'\n",
        "        else:\n",
        "            self.scale_fn = scale_fn\n",
        "            self.scale_mode = scale_mode\n",
        "        self.clr_iterations = 0.\n",
        "        self.trn_iterations = 0.\n",
        "        self.history = {}\n",
        "\n",
        "        self._reset()\n",
        "\n",
        "    def _reset(self, new_base_lr=None, new_max_lr=None,\n",
        "               new_step_size=None):\n",
        "        \"\"\"Resets cycle iterations.\n",
        "        Optional boundary/step size adjustment.\n",
        "        \"\"\"\n",
        "        if new_base_lr != None:\n",
        "            self.base_lr = new_base_lr\n",
        "        if new_max_lr != None:\n",
        "            self.max_lr = new_max_lr\n",
        "        if new_step_size != None:\n",
        "            self.step_size = new_step_size\n",
        "        self.clr_iterations = 0.\n",
        "        \n",
        "    def clr(self):\n",
        "        cycle = np.floor(1+self.clr_iterations/(2*self.step_size))\n",
        "        x = np.abs(self.clr_iterations/self.step_size - 2*cycle + 1)\n",
        "        if self.scale_mode == 'cycle':\n",
        "            return self.base_lr + (self.max_lr-self.base_lr)*np.maximum(0, (1-x))*self.scale_fn(cycle)\n",
        "        else:\n",
        "            return self.base_lr + (self.max_lr-self.base_lr)*np.maximum(0, (1-x))*self.scale_fn(self.clr_iterations)\n",
        "        \n",
        "    def on_train_begin(self, logs={}):\n",
        "        logs = logs or {}\n",
        "\n",
        "        if self.clr_iterations == 0:\n",
        "            K.set_value(self.model.optimizer.lr, self.base_lr)\n",
        "        else:\n",
        "            K.set_value(self.model.optimizer.lr, self.clr())        \n",
        "            \n",
        "    def on_batch_end(self, epoch, logs=None):\n",
        "        \n",
        "        logs = logs or {}\n",
        "        self.trn_iterations += 1\n",
        "        self.clr_iterations += 1\n",
        "\n",
        "        self.history.setdefault('lr', []).append(K.get_value(self.model.optimizer.lr))\n",
        "        self.history.setdefault('iterations', []).append(self.trn_iterations)\n",
        "\n",
        "        for k, v in logs.items():\n",
        "            self.history.setdefault(k, []).append(v)\n",
        "        \n",
        "        K.set_value(self.model.optimizer.lr, self.clr())"
      ],
      "execution_count": 0,
      "outputs": []
    },
    {
      "cell_type": "code",
      "metadata": {
        "id": "XKQmRs7xaBXQ",
        "colab_type": "code",
        "colab": {}
      },
      "source": [
        "clr = CyclicLR(base_lr=1e-12, max_lr=.1, step_size=14421)"
      ],
      "execution_count": 0,
      "outputs": []
    },
    {
      "cell_type": "code",
      "metadata": {
        "id": "saqZSwPChDqz",
        "colab_type": "code",
        "outputId": "363fdacd-67dc-425d-885d-b05ed3fc7afa",
        "colab": {
          "base_uri": "https://localhost:8080/",
          "height": 1000
        }
      },
      "source": [
        "clr = CyclicLR(base_lr=0.000001, max_lr=1., step_size=46208)\n",
        "model = get_compiled_model()\n",
        "train_gen = DataGenerator(train_df, batch_size=BATCH_SIZE, shuffle=True)\n",
        "history = model.fit_generator(\n",
        "    generator=train_gen,\n",
        "    # validation_data=valid_gen,\n",
        "    epochs=64,\n",
        "    callbacks=[clr]\n",
        ")"
      ],
      "execution_count": 77,
      "outputs": [
        {
          "output_type": "stream",
          "text": [
            "Epoch 1/64\n",
            "  1/722 [..............................] - ETA: 50:41 - loss: 1.8412 - acc: 0.0625WARNING:tensorflow:Method (on_train_batch_end) is slow compared to the batch update (0.283662). Check your callbacks.\n",
            "722/722 [==============================] - 32s 44ms/step - loss: 1.5040 - acc: 0.3558\n",
            "Epoch 2/64\n",
            "722/722 [==============================] - 28s 39ms/step - loss: 1.4292 - acc: 0.3985\n",
            "Epoch 3/64\n",
            "722/722 [==============================] - 28s 39ms/step - loss: 1.4218 - acc: 0.3924\n",
            "Epoch 4/64\n",
            "722/722 [==============================] - 28s 39ms/step - loss: 1.4172 - acc: 0.3920\n",
            "Epoch 5/64\n",
            "722/722 [==============================] - 28s 38ms/step - loss: 1.4143 - acc: 0.3879\n",
            "Epoch 6/64\n",
            "722/722 [==============================] - 27s 38ms/step - loss: 1.4152 - acc: 0.3874\n",
            "Epoch 7/64\n",
            "722/722 [==============================] - 28s 38ms/step - loss: 1.4086 - acc: 0.3862\n",
            "Epoch 8/64\n",
            "722/722 [==============================] - 28s 38ms/step - loss: 1.4039 - acc: 0.3955\n",
            "Epoch 9/64\n",
            "722/722 [==============================] - 28s 38ms/step - loss: 1.4114 - acc: 0.3913\n",
            "Epoch 10/64\n",
            "722/722 [==============================] - 28s 38ms/step - loss: 1.4347 - acc: 0.3902\n",
            "Epoch 11/64\n",
            "722/722 [==============================] - 28s 38ms/step - loss: 1.4353 - acc: 0.3930\n",
            "Epoch 12/64\n",
            "722/722 [==============================] - 27s 38ms/step - loss: 1.4337 - acc: 0.3936\n",
            "Epoch 13/64\n",
            "722/722 [==============================] - 28s 39ms/step - loss: 1.4340 - acc: 0.3979\n",
            "Epoch 14/64\n",
            "722/722 [==============================] - 28s 38ms/step - loss: 1.4299 - acc: 0.3971\n",
            "Epoch 15/64\n",
            "722/722 [==============================] - 28s 38ms/step - loss: 1.4299 - acc: 0.3983\n",
            "Epoch 16/64\n",
            "722/722 [==============================] - 27s 38ms/step - loss: 1.4350 - acc: 0.3966\n",
            "Epoch 17/64\n",
            "722/722 [==============================] - 27s 38ms/step - loss: 1.4332 - acc: 0.3928\n",
            "Epoch 18/64\n",
            "722/722 [==============================] - 27s 38ms/step - loss: 1.4321 - acc: 0.3967\n",
            "Epoch 19/64\n",
            "722/722 [==============================] - 27s 37ms/step - loss: 1.4300 - acc: 0.3990\n",
            "Epoch 20/64\n",
            "722/722 [==============================] - 27s 37ms/step - loss: 1.4295 - acc: 0.3984\n",
            "Epoch 21/64\n",
            "722/722 [==============================] - 27s 37ms/step - loss: 1.4313 - acc: 0.3985\n",
            "Epoch 22/64\n",
            "722/722 [==============================] - 27s 37ms/step - loss: 1.4315 - acc: 0.3987\n",
            "Epoch 23/64\n",
            "722/722 [==============================] - 27s 37ms/step - loss: 1.4284 - acc: 0.3977\n",
            "Epoch 24/64\n",
            "722/722 [==============================] - 27s 38ms/step - loss: 1.4306 - acc: 0.3979\n",
            "Epoch 25/64\n",
            "722/722 [==============================] - 27s 37ms/step - loss: 1.4305 - acc: 0.3983\n",
            "Epoch 26/64\n",
            "722/722 [==============================] - 29s 40ms/step - loss: 1.4288 - acc: 0.3989\n",
            "Epoch 27/64\n",
            "722/722 [==============================] - 28s 38ms/step - loss: 1.4314 - acc: 0.3983\n",
            "Epoch 28/64\n",
            "722/722 [==============================] - 28s 39ms/step - loss: 1.4300 - acc: 0.3986\n",
            "Epoch 29/64\n",
            "722/722 [==============================] - 28s 39ms/step - loss: 1.4316 - acc: 0.3979\n",
            "Epoch 30/64\n",
            "722/722 [==============================] - 28s 39ms/step - loss: 1.4312 - acc: 0.3966\n",
            "Epoch 31/64\n",
            "722/722 [==============================] - 28s 39ms/step - loss: 1.4333 - acc: 0.3962\n",
            "Epoch 32/64\n",
            "722/722 [==============================] - 28s 39ms/step - loss: 1.4321 - acc: 0.3972\n",
            "Epoch 33/64\n",
            "722/722 [==============================] - 28s 39ms/step - loss: 1.4310 - acc: 0.3961\n",
            "Epoch 34/64\n",
            "722/722 [==============================] - 28s 39ms/step - loss: 1.4323 - acc: 0.3957\n",
            "Epoch 35/64\n",
            "722/722 [==============================] - 28s 39ms/step - loss: 1.4299 - acc: 0.3959\n",
            "Epoch 36/64\n",
            "722/722 [==============================] - 28s 38ms/step - loss: 1.4322 - acc: 0.3966\n",
            "Epoch 37/64\n",
            "722/722 [==============================] - 28s 39ms/step - loss: 1.4297 - acc: 0.3946\n",
            "Epoch 38/64\n",
            "722/722 [==============================] - 28s 38ms/step - loss: 1.4281 - acc: 0.3983\n",
            "Epoch 39/64\n",
            "722/722 [==============================] - 28s 38ms/step - loss: 1.4300 - acc: 0.3928\n",
            "Epoch 40/64\n",
            "722/722 [==============================] - 28s 38ms/step - loss: 1.4297 - acc: 0.3957\n",
            "Epoch 41/64\n",
            "722/722 [==============================] - 28s 38ms/step - loss: 1.4298 - acc: 0.3950\n",
            "Epoch 42/64\n",
            "722/722 [==============================] - 28s 39ms/step - loss: 1.4307 - acc: 0.3952\n",
            "Epoch 43/64\n",
            "722/722 [==============================] - 28s 39ms/step - loss: 1.4325 - acc: 0.3939\n",
            "Epoch 44/64\n",
            "722/722 [==============================] - 28s 39ms/step - loss: 1.4333 - acc: 0.3959\n",
            "Epoch 45/64\n",
            "722/722 [==============================] - 28s 38ms/step - loss: 1.4336 - acc: 0.3962\n",
            "Epoch 46/64\n",
            "722/722 [==============================] - 28s 39ms/step - loss: 1.4359 - acc: 0.3943\n",
            "Epoch 47/64\n",
            "722/722 [==============================] - 28s 39ms/step - loss: 1.4331 - acc: 0.3922\n",
            "Epoch 48/64\n",
            "722/722 [==============================] - 28s 38ms/step - loss: 1.4366 - acc: 0.3939\n",
            "Epoch 49/64\n",
            "722/722 [==============================] - 28s 38ms/step - loss: 1.4349 - acc: 0.3946\n",
            "Epoch 50/64\n",
            "722/722 [==============================] - 28s 38ms/step - loss: 1.4367 - acc: 0.3946\n",
            "Epoch 51/64\n",
            "722/722 [==============================] - 28s 38ms/step - loss: 1.4342 - acc: 0.3959\n",
            "Epoch 52/64\n",
            "722/722 [==============================] - 28s 38ms/step - loss: 1.4361 - acc: 0.3912\n",
            "Epoch 53/64\n",
            "722/722 [==============================] - 27s 38ms/step - loss: 1.4342 - acc: 0.3914\n",
            "Epoch 54/64\n",
            "722/722 [==============================] - 27s 38ms/step - loss: 1.4337 - acc: 0.3945\n",
            "Epoch 55/64\n",
            "722/722 [==============================] - 28s 38ms/step - loss: 1.4366 - acc: 0.3948\n",
            "Epoch 56/64\n",
            "722/722 [==============================] - 27s 38ms/step - loss: 1.4374 - acc: 0.3959\n",
            "Epoch 57/64\n",
            "722/722 [==============================] - 27s 38ms/step - loss: 1.4348 - acc: 0.3946\n",
            "Epoch 58/64\n",
            "722/722 [==============================] - 28s 38ms/step - loss: 1.4338 - acc: 0.3934\n",
            "Epoch 59/64\n",
            "722/722 [==============================] - 28s 38ms/step - loss: 1.4330 - acc: 0.3944\n",
            "Epoch 60/64\n",
            "722/722 [==============================] - 27s 38ms/step - loss: 1.4343 - acc: 0.3901\n",
            "Epoch 61/64\n",
            "722/722 [==============================] - 27s 38ms/step - loss: 1.4336 - acc: 0.3907\n",
            "Epoch 62/64\n",
            "722/722 [==============================] - 27s 38ms/step - loss: 1.4313 - acc: 0.3899\n",
            "Epoch 63/64\n",
            "722/722 [==============================] - 27s 38ms/step - loss: 1.4317 - acc: 0.3894\n",
            "Epoch 64/64\n",
            "722/722 [==============================] - 27s 38ms/step - loss: 1.4330 - acc: 0.3907\n"
          ],
          "name": "stdout"
        }
      ]
    },
    {
      "cell_type": "code",
      "metadata": {
        "id": "uu-CT1Kbjc1W",
        "colab_type": "code",
        "colab": {
          "base_uri": "https://localhost:8080/",
          "height": 34
        },
        "outputId": "6fe8b4e6-19bc-4fdc-acb8-6349f5cada26"
      },
      "source": [
        "clr.history['lr'][:5]"
      ],
      "execution_count": 71,
      "outputs": [
        {
          "output_type": "execute_result",
          "data": {
            "text/plain": [
              "[1e-04, 0.00053282117, 0.00096564234, 0.0013984635, 0.0018312846]"
            ]
          },
          "metadata": {
            "tags": []
          },
          "execution_count": 71
        }
      ]
    },
    {
      "cell_type": "code",
      "metadata": {
        "id": "MoBKk9Lrea8K",
        "colab_type": "code",
        "outputId": "2d2bf3e6-3e80-4aff-b882-4a1464cd3d4c",
        "colab": {
          "base_uri": "https://localhost:8080/",
          "height": 761
        }
      },
      "source": [
        "import matplotlib.pyplot as plt\n",
        "\n",
        "def plot_pairs(metric, val_metric):\n",
        "  plt.plot(range(len(metric)), metric, color='blue')\n",
        "  plt.plot(range(len(val_metric)), val_metric, color='green')\n",
        "  plt.show()\n",
        "\n",
        "loss = history.history['loss']\n",
        "val_loss = [] # history.history['val_loss']\n",
        "\n",
        "acc = history.history['acc']\n",
        "val_acc = [] # history.history['val_acc']\n",
        "\n",
        "plot_pairs(loss, val_loss)\n",
        "plot_pairs(acc, val_acc)\n",
        "plot_pairs(clr.history['lr'], [])"
      ],
      "execution_count": 78,
      "outputs": [
        {
          "output_type": "display_data",
          "data": {
            "image/png": "[encoded data removed]",
            "text/plain": [
              "<Figure size 432x288 with 1 Axes>"
            ]
          },
          "metadata": {
            "tags": []
          }
        },
        {
          "output_type": "display_data",
          "data": {
            "image/png": "[encoded data removed]",
            "text/plain": [
              "<Figure size 432x288 with 1 Axes>"
            ]
          },
          "metadata": {
            "tags": []
          }
        },
        {
          "output_type": "display_data",
          "data": {
            "image/png": "[encoded data removed]",
            "text/plain": [
              "<Figure size 432x288 with 1 Axes>"
            ]
          },
          "metadata": {
            "tags": []
          }
        }
      ]
    },
    {
      "cell_type": "code",
      "metadata": {
        "id": "Pp3Voi7lflhX",
        "colab_type": "code",
        "outputId": "2f07da15-cb06-4f52-e936-c36b0ee9b68d",
        "colab": {
          "base_uri": "https://localhost:8080/",
          "height": 1000
        }
      },
      "source": [
        "clr = CyclicLR(base_lr=0.001, max_lr=0.01, step_size=5000)\n",
        "model = get_compiled_model()\n",
        "history = model.fit_generator(\n",
        "    generator=train_gen,\n",
        "    validation_data=valid_gen,\n",
        "    epochs=20,\n",
        "    callbacks=[clr]\n",
        ")"
      ],
      "execution_count": 79,
      "outputs": [
        {
          "output_type": "stream",
          "text": [
            "Epoch 1/20\n",
            "  1/722 [..............................] - ETA: 53:47 - loss: 1.8066 - acc: 0.0625WARNING:tensorflow:Method (on_train_batch_end) is slow compared to the batch update (0.314516). Check your callbacks.\n",
            "720/722 [============================>.] - ETA: 0s - loss: 1.4996 - acc: 0.3547Epoch 1/20\n",
            "722/722 [==============================] - 38s 52ms/step - loss: 1.4992 - acc: 0.3549 - val_loss: 1.4409 - val_acc: 0.3964\n",
            "Epoch 2/20\n",
            "721/722 [============================>.] - ETA: 0s - loss: 1.4272 - acc: 0.3989Epoch 1/20\n",
            "722/722 [==============================] - 32s 44ms/step - loss: 1.4270 - acc: 0.3991 - val_loss: 1.4411 - val_acc: 0.3964\n",
            "Epoch 3/20\n",
            "721/722 [============================>.] - ETA: 0s - loss: 1.4273 - acc: 0.3990Epoch 1/20\n",
            "722/722 [==============================] - 32s 44ms/step - loss: 1.4272 - acc: 0.3991 - val_loss: 1.4405 - val_acc: 0.3964\n",
            "Epoch 4/20\n",
            "721/722 [============================>.] - ETA: 0s - loss: 1.4247 - acc: 0.3992Epoch 1/20\n",
            "722/722 [==============================] - 32s 44ms/step - loss: 1.4248 - acc: 0.3991 - val_loss: 1.4389 - val_acc: 0.3964\n",
            "Epoch 5/20\n",
            "720/722 [============================>.] - ETA: 0s - loss: 1.4248 - acc: 0.3992Epoch 1/20\n",
            "722/722 [==============================] - 32s 44ms/step - loss: 1.4251 - acc: 0.3992 - val_loss: 1.4324 - val_acc: 0.3964\n",
            "Epoch 6/20\n",
            "720/722 [============================>.] - ETA: 0s - loss: 1.4187 - acc: 0.3983Epoch 1/20\n",
            "722/722 [==============================] - 32s 44ms/step - loss: 1.4191 - acc: 0.3985 - val_loss: 1.4351 - val_acc: 0.3964\n",
            "Epoch 7/20\n",
            "721/722 [============================>.] - ETA: 0s - loss: 1.4162 - acc: 0.3976Epoch 1/20\n",
            "722/722 [==============================] - 32s 45ms/step - loss: 1.4163 - acc: 0.3977 - val_loss: 1.4268 - val_acc: 0.3964\n",
            "Epoch 8/20\n",
            "720/722 [============================>.] - ETA: 0s - loss: 1.4119 - acc: 0.3975Epoch 1/20\n",
            "722/722 [==============================] - 32s 44ms/step - loss: 1.4119 - acc: 0.3978 - val_loss: 1.4218 - val_acc: 0.3964\n",
            "Epoch 9/20\n",
            "720/722 [============================>.] - ETA: 0s - loss: 1.4096 - acc: 0.3975Epoch 1/20\n",
            "722/722 [==============================] - 32s 44ms/step - loss: 1.4092 - acc: 0.3977 - val_loss: 1.4240 - val_acc: 0.3964\n",
            "Epoch 10/20\n",
            "720/722 [============================>.] - ETA: 0s - loss: 1.4063 - acc: 0.3990Epoch 1/20\n",
            "722/722 [==============================] - 32s 44ms/step - loss: 1.4063 - acc: 0.3991 - val_loss: 1.4182 - val_acc: 0.3964\n",
            "Epoch 11/20\n",
            "721/722 [============================>.] - ETA: 0s - loss: 1.4029 - acc: 0.3990Epoch 1/20\n",
            "722/722 [==============================] - 31s 43ms/step - loss: 1.4030 - acc: 0.3989 - val_loss: 1.4166 - val_acc: 0.3964\n",
            "Epoch 12/20\n",
            "720/722 [============================>.] - ETA: 0s - loss: 1.4047 - acc: 0.3975Epoch 1/20\n",
            "722/722 [==============================] - 32s 45ms/step - loss: 1.4043 - acc: 0.3978 - val_loss: 1.4135 - val_acc: 0.3964\n",
            "Epoch 13/20\n",
            "720/722 [============================>.] - ETA: 0s - loss: 1.3979 - acc: 0.3977Epoch 1/20\n",
            "722/722 [==============================] - 32s 44ms/step - loss: 1.3978 - acc: 0.3975 - val_loss: 1.4127 - val_acc: 0.3964\n",
            "Epoch 14/20\n",
            "721/722 [============================>.] - ETA: 0s - loss: 1.3982 - acc: 0.3976Epoch 1/20\n",
            "722/722 [==============================] - 32s 44ms/step - loss: 1.3980 - acc: 0.3978 - val_loss: 1.4116 - val_acc: 0.3969\n",
            "Epoch 15/20\n",
            "720/722 [============================>.] - ETA: 0s - loss: 1.3968 - acc: 0.3998Epoch 1/20\n",
            "722/722 [==============================] - 31s 43ms/step - loss: 1.3971 - acc: 0.3997 - val_loss: 1.4110 - val_acc: 0.3964\n",
            "Epoch 16/20\n",
            "720/722 [============================>.] - ETA: 0s - loss: 1.3976 - acc: 0.3970Epoch 1/20\n",
            "722/722 [==============================] - 31s 43ms/step - loss: 1.3977 - acc: 0.3969 - val_loss: 1.4116 - val_acc: 0.3959\n",
            "Epoch 17/20\n",
            "720/722 [============================>.] - ETA: 0s - loss: 1.3993 - acc: 0.3970Epoch 1/20\n",
            "722/722 [==============================] - 31s 43ms/step - loss: 1.3993 - acc: 0.3966 - val_loss: 1.4100 - val_acc: 0.3964\n",
            "Epoch 18/20\n",
            "721/722 [============================>.] - ETA: 0s - loss: 1.3959 - acc: 0.3971Epoch 1/20\n",
            "722/722 [==============================] - 31s 43ms/step - loss: 1.3960 - acc: 0.3972 - val_loss: 1.4118 - val_acc: 0.3964\n",
            "Epoch 19/20\n",
            "720/722 [============================>.] - ETA: 0s - loss: 1.3931 - acc: 0.3974Epoch 1/20\n",
            "722/722 [==============================] - 32s 44ms/step - loss: 1.3934 - acc: 0.3975 - val_loss: 1.4052 - val_acc: 0.3969\n",
            "Epoch 20/20\n",
            "721/722 [============================>.] - ETA: 0s - loss: 1.3943 - acc: 0.3994Epoch 1/20\n",
            "722/722 [==============================] - 32s 44ms/step - loss: 1.3941 - acc: 0.3996 - val_loss: 1.4078 - val_acc: 0.3969\n"
          ],
          "name": "stdout"
        }
      ]
    },
    {
      "cell_type": "code",
      "metadata": {
        "id": "YWtQKfyp7R3v",
        "colab_type": "code",
        "outputId": "886357a7-746a-44d1-85fd-81c0fb569ba5",
        "colab": {
          "base_uri": "https://localhost:8080/",
          "height": 513
        }
      },
      "source": [
        "loss = history.history['loss']\n",
        "val_loss = history.history['val_loss']\n",
        "\n",
        "acc = history.history['acc']\n",
        "val_acc = history.history['val_acc']\n",
        "\n",
        "plot_pairs(loss, val_loss)\n",
        "plot_pairs(acc, val_acc)"
      ],
      "execution_count": 81,
      "outputs": [
        {
          "output_type": "display_data",
          "data": {
            "image/png": "[encoded data removed]",
            "text/plain": [
              "<Figure size 432x288 with 1 Axes>"
            ]
          },
          "metadata": {
            "tags": []
          }
        },
        {
          "output_type": "display_data",
          "data": {
            "image/png": "[encoded data removed]",
            "text/plain": [
              "<Figure size 432x288 with 1 Axes>"
            ]
          },
          "metadata": {
            "tags": []
          }
        }
      ]
    },
    {
      "cell_type": "code",
      "metadata": {
        "id": "Ff9Um2aT7aeu",
        "colab_type": "code",
        "outputId": "8a30477a-dde1-446c-af9f-d274c5418810",
        "colab": {
          "base_uri": "https://localhost:8080/",
          "height": 1000
        }
      },
      "source": [
        "history2 = model.fit_generator(\n",
        "    generator=train_gen,\n",
        "    validation_data=valid_gen,\n",
        "    epochs=40,\n",
        "    callbacks=[clr]\n",
        ")"
      ],
      "execution_count": 82,
      "outputs": [
        {
          "output_type": "stream",
          "text": [
            "Epoch 1/40\n",
            "720/722 [============================>.] - ETA: 0s - loss: 1.3908 - acc: 0.3976Epoch 1/40\n",
            "722/722 [==============================] - 32s 44ms/step - loss: 1.3907 - acc: 0.3976 - val_loss: 1.4041 - val_acc: 0.3964\n",
            "Epoch 2/40\n",
            "721/722 [============================>.] - ETA: 0s - loss: 1.3891 - acc: 0.3935Epoch 1/40\n",
            "722/722 [==============================] - 31s 44ms/step - loss: 1.3888 - acc: 0.3938 - val_loss: 1.3979 - val_acc: 0.3969\n",
            "Epoch 3/40\n",
            "721/722 [============================>.] - ETA: 0s - loss: 1.3836 - acc: 0.3978Epoch 1/40\n",
            "722/722 [==============================] - 32s 44ms/step - loss: 1.3836 - acc: 0.3978 - val_loss: 1.4164 - val_acc: 0.3905\n",
            "Epoch 4/40\n",
            "720/722 [============================>.] - ETA: 0s - loss: 1.3795 - acc: 0.3970Epoch 1/40\n",
            "722/722 [==============================] - 32s 44ms/step - loss: 1.3795 - acc: 0.3971 - val_loss: 1.3953 - val_acc: 0.3939\n",
            "Epoch 5/40\n",
            "720/722 [============================>.] - ETA: 0s - loss: 1.3753 - acc: 0.4018Epoch 1/40\n",
            "722/722 [==============================] - 32s 44ms/step - loss: 1.3755 - acc: 0.4017 - val_loss: 1.3942 - val_acc: 0.3915\n",
            "Epoch 6/40\n",
            "720/722 [============================>.] - ETA: 0s - loss: 1.3723 - acc: 0.4013Epoch 1/40\n",
            "722/722 [==============================] - 32s 44ms/step - loss: 1.3722 - acc: 0.4014 - val_loss: 1.3937 - val_acc: 0.3919\n",
            "Epoch 7/40\n",
            "720/722 [============================>.] - ETA: 0s - loss: 1.3670 - acc: 0.4040Epoch 1/40\n",
            "722/722 [==============================] - 31s 43ms/step - loss: 1.3669 - acc: 0.4041 - val_loss: 1.3917 - val_acc: 0.3929\n",
            "Epoch 8/40\n",
            "721/722 [============================>.] - ETA: 0s - loss: 1.3671 - acc: 0.4039Epoch 1/40\n",
            "722/722 [==============================] - 31s 43ms/step - loss: 1.3670 - acc: 0.4037 - val_loss: 1.3918 - val_acc: 0.3841\n",
            "Epoch 9/40\n",
            "721/722 [============================>.] - ETA: 0s - loss: 1.3655 - acc: 0.4020Epoch 1/40\n",
            "722/722 [==============================] - 32s 44ms/step - loss: 1.3653 - acc: 0.4018 - val_loss: 1.3915 - val_acc: 0.3890\n",
            "Epoch 10/40\n",
            "720/722 [============================>.] - ETA: 0s - loss: 1.3662 - acc: 0.4030Epoch 1/40\n",
            "722/722 [==============================] - 31s 43ms/step - loss: 1.3660 - acc: 0.4035 - val_loss: 1.3935 - val_acc: 0.3954\n",
            "Epoch 11/40\n",
            "720/722 [============================>.] - ETA: 0s - loss: 1.3680 - acc: 0.4011Epoch 1/40\n",
            "722/722 [==============================] - 32s 44ms/step - loss: 1.3677 - acc: 0.4010 - val_loss: 1.3920 - val_acc: 0.3880\n",
            "Epoch 12/40\n",
            "720/722 [============================>.] - ETA: 0s - loss: 1.3667 - acc: 0.4064Epoch 1/40\n",
            "722/722 [==============================] - 31s 43ms/step - loss: 1.3666 - acc: 0.4064 - val_loss: 1.3904 - val_acc: 0.3895\n",
            "Epoch 13/40\n",
            "720/722 [============================>.] - ETA: 0s - loss: 1.3669 - acc: 0.4064Epoch 1/40\n",
            "722/722 [==============================] - 31s 44ms/step - loss: 1.3670 - acc: 0.4064 - val_loss: 1.4000 - val_acc: 0.3875\n",
            "Epoch 14/40\n",
            "720/722 [============================>.] - ETA: 0s - loss: 1.3634 - acc: 0.4017Epoch 1/40\n",
            "722/722 [==============================] - 32s 44ms/step - loss: 1.3629 - acc: 0.4020 - val_loss: 1.3914 - val_acc: 0.3900\n",
            "Epoch 15/40\n",
            "720/722 [============================>.] - ETA: 0s - loss: 1.3662 - acc: 0.4013Epoch 1/40\n",
            "722/722 [==============================] - 32s 44ms/step - loss: 1.3661 - acc: 0.4015 - val_loss: 1.3937 - val_acc: 0.3978\n",
            "Epoch 16/40\n",
            "720/722 [============================>.] - ETA: 0s - loss: 1.3600 - acc: 0.4059Epoch 1/40\n",
            "722/722 [==============================] - 32s 44ms/step - loss: 1.3603 - acc: 0.4056 - val_loss: 1.3977 - val_acc: 0.3885\n",
            "Epoch 17/40\n",
            "721/722 [============================>.] - ETA: 0s - loss: 1.3547 - acc: 0.4066Epoch 1/40\n",
            "722/722 [==============================] - 31s 44ms/step - loss: 1.3548 - acc: 0.4068 - val_loss: 1.3906 - val_acc: 0.3924\n",
            "Epoch 18/40\n",
            "720/722 [============================>.] - ETA: 0s - loss: 1.3478 - acc: 0.4083Epoch 1/40\n",
            "722/722 [==============================] - 31s 43ms/step - loss: 1.3480 - acc: 0.4078 - val_loss: 1.3907 - val_acc: 0.3856\n",
            "Epoch 19/40\n",
            "720/722 [============================>.] - ETA: 0s - loss: 1.3422 - acc: 0.4108Epoch 1/40\n",
            "722/722 [==============================] - 32s 44ms/step - loss: 1.3423 - acc: 0.4107 - val_loss: 1.3939 - val_acc: 0.3865\n",
            "Epoch 20/40\n",
            "721/722 [============================>.] - ETA: 0s - loss: 1.3362 - acc: 0.4145Epoch 1/40\n",
            "722/722 [==============================] - 32s 44ms/step - loss: 1.3364 - acc: 0.4143 - val_loss: 1.3897 - val_acc: 0.3915\n",
            "Epoch 21/40\n",
            "720/722 [============================>.] - ETA: 0s - loss: 1.3335 - acc: 0.4203Epoch 1/40\n",
            "722/722 [==============================] - 31s 44ms/step - loss: 1.3336 - acc: 0.4202 - val_loss: 1.3909 - val_acc: 0.3885\n",
            "Epoch 22/40\n",
            "720/722 [============================>.] - ETA: 0s - loss: 1.3280 - acc: 0.4206Epoch 1/40\n",
            "722/722 [==============================] - 32s 44ms/step - loss: 1.3280 - acc: 0.4206 - val_loss: 1.3903 - val_acc: 0.3861\n",
            "Epoch 23/40\n",
            "721/722 [============================>.] - ETA: 0s - loss: 1.3273 - acc: 0.4190Epoch 1/40\n",
            "722/722 [==============================] - 31s 43ms/step - loss: 1.3271 - acc: 0.4192 - val_loss: 1.3913 - val_acc: 0.3875\n",
            "Epoch 24/40\n",
            "721/722 [============================>.] - ETA: 0s - loss: 1.3283 - acc: 0.4203Epoch 1/40\n",
            "722/722 [==============================] - 31s 43ms/step - loss: 1.3284 - acc: 0.4202 - val_loss: 1.3913 - val_acc: 0.3880\n",
            "Epoch 25/40\n",
            "721/722 [============================>.] - ETA: 0s - loss: 1.3311 - acc: 0.4190Epoch 1/40\n",
            "722/722 [==============================] - 32s 44ms/step - loss: 1.3307 - acc: 0.4193 - val_loss: 1.3927 - val_acc: 0.3870\n",
            "Epoch 26/40\n",
            "721/722 [============================>.] - ETA: 0s - loss: 1.3321 - acc: 0.4205Epoch 1/40\n",
            "722/722 [==============================] - 31s 43ms/step - loss: 1.3323 - acc: 0.4202 - val_loss: 1.3937 - val_acc: 0.3890\n",
            "Epoch 27/40\n",
            "721/722 [============================>.] - ETA: 0s - loss: 1.3326 - acc: 0.4185Epoch 1/40\n",
            "722/722 [==============================] - 31s 43ms/step - loss: 1.3325 - acc: 0.4182 - val_loss: 1.3959 - val_acc: 0.3831\n",
            "Epoch 28/40\n",
            "721/722 [============================>.] - ETA: 0s - loss: 1.3312 - acc: 0.4191Epoch 1/40\n",
            "722/722 [==============================] - 31s 43ms/step - loss: 1.3313 - acc: 0.4189 - val_loss: 1.3930 - val_acc: 0.3964\n",
            "Epoch 29/40\n",
            "720/722 [============================>.] - ETA: 0s - loss: 1.3307 - acc: 0.4200Epoch 1/40\n",
            "722/722 [==============================] - 32s 44ms/step - loss: 1.3304 - acc: 0.4200 - val_loss: 1.3985 - val_acc: 0.3969\n",
            "Epoch 30/40\n",
            "721/722 [============================>.] - ETA: 0s - loss: 1.3264 - acc: 0.4209Epoch 1/40\n",
            "722/722 [==============================] - 33s 46ms/step - loss: 1.3265 - acc: 0.4209 - val_loss: 1.4047 - val_acc: 0.3865\n",
            "Epoch 31/40\n",
            "721/722 [============================>.] - ETA: 0s - loss: 1.3152 - acc: 0.4259Epoch 1/40\n",
            "722/722 [==============================] - 33s 46ms/step - loss: 1.3152 - acc: 0.4259 - val_loss: 1.4079 - val_acc: 0.3988\n",
            "Epoch 32/40\n",
            "721/722 [============================>.] - ETA: 0s - loss: 1.3055 - acc: 0.4360Epoch 1/40\n",
            "722/722 [==============================] - 32s 44ms/step - loss: 1.3053 - acc: 0.4361 - val_loss: 1.3963 - val_acc: 0.3777\n",
            "Epoch 33/40\n",
            "720/722 [============================>.] - ETA: 0s - loss: 1.3017 - acc: 0.4342Epoch 1/40\n",
            "722/722 [==============================] - 32s 44ms/step - loss: 1.3014 - acc: 0.4345 - val_loss: 1.3993 - val_acc: 0.3802\n",
            "Epoch 34/40\n",
            "721/722 [============================>.] - ETA: 0s - loss: 1.2887 - acc: 0.4435Epoch 1/40\n",
            "722/722 [==============================] - 32s 45ms/step - loss: 1.2889 - acc: 0.4435 - val_loss: 1.3988 - val_acc: 0.3900\n",
            "Epoch 35/40\n",
            "720/722 [============================>.] - ETA: 0s - loss: 1.2810 - acc: 0.4489Epoch 1/40\n",
            "722/722 [==============================] - 32s 44ms/step - loss: 1.2807 - acc: 0.4492 - val_loss: 1.3969 - val_acc: 0.3875\n",
            "Epoch 36/40\n",
            "720/722 [============================>.] - ETA: 0s - loss: 1.2715 - acc: 0.4511Epoch 1/40\n",
            "722/722 [==============================] - 32s 44ms/step - loss: 1.2710 - acc: 0.4512 - val_loss: 1.3978 - val_acc: 0.3831\n",
            "Epoch 37/40\n",
            "720/722 [============================>.] - ETA: 0s - loss: 1.2756 - acc: 0.4509Epoch 1/40\n",
            "722/722 [==============================] - 32s 45ms/step - loss: 1.2758 - acc: 0.4508 - val_loss: 1.3978 - val_acc: 0.3880\n",
            "Epoch 38/40\n",
            "721/722 [============================>.] - ETA: 0s - loss: 1.2752 - acc: 0.4506Epoch 1/40\n",
            "722/722 [==============================] - 32s 44ms/step - loss: 1.2753 - acc: 0.4506 - val_loss: 1.4044 - val_acc: 0.3787\n",
            "Epoch 39/40\n",
            "720/722 [============================>.] - ETA: 0s - loss: 1.2839 - acc: 0.4451Epoch 1/40\n",
            "722/722 [==============================] - 32s 45ms/step - loss: 1.2846 - acc: 0.4446 - val_loss: 1.4078 - val_acc: 0.3718\n",
            "Epoch 40/40\n",
            "720/722 [============================>.] - ETA: 0s - loss: 1.2779 - acc: 0.4490Epoch 1/40\n",
            "722/722 [==============================] - 32s 44ms/step - loss: 1.2777 - acc: 0.4492 - val_loss: 1.4158 - val_acc: 0.3733\n"
          ],
          "name": "stdout"
        }
      ]
    },
    {
      "cell_type": "code",
      "metadata": {
        "id": "6YYHJug2Gj3d",
        "colab_type": "code",
        "colab": {
          "base_uri": "https://localhost:8080/",
          "height": 513
        },
        "outputId": "c8cf0ec4-cb47-42c4-f860-8961165e985c"
      },
      "source": [
        "loss = history2.history['loss']\n",
        "val_loss = history2.history['val_loss']\n",
        "\n",
        "acc = history2.history['acc']\n",
        "val_acc = history2.history['val_acc']\n",
        "\n",
        "plot_pairs(loss, val_loss)\n",
        "plot_pairs(acc, val_acc)"
      ],
      "execution_count": 83,
      "outputs": [
        {
          "output_type": "display_data",
          "data": {
            "image/png": "[encoded data removed]",
            "text/plain": [
              "<Figure size 432x288 with 1 Axes>"
            ]
          },
          "metadata": {
            "tags": []
          }
        },
        {
          "output_type": "display_data",
          "data": {
            "image/png": "[encoded data removed]",
            "text/plain": [
              "<Figure size 432x288 with 1 Axes>"
            ]
          },
          "metadata": {
            "tags": []
          }
        }
      ]
    }
  ]
}